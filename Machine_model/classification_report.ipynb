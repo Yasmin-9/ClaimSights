{
 "cells": [
  {
   "cell_type": "code",
   "execution_count": 34,
   "metadata": {},
   "outputs": [],
   "source": [
    "import pandas as pd\n",
    "from sklearn.model_selection import train_test_split\n",
    "from sklearn.preprocessing import OneHotEncoder\n",
    "from sklearn.ensemble import RandomForestClassifier\n",
    "from sklearn.metrics import accuracy_score\n",
    "from sklearn.metrics import classification_report\n"
   ]
  },
  {
   "cell_type": "code",
   "execution_count": 28,
   "metadata": {},
   "outputs": [
    {
     "data": {
      "text/html": [
       "<div>\n",
       "<style scoped>\n",
       "    .dataframe tbody tr th:only-of-type {\n",
       "        vertical-align: middle;\n",
       "    }\n",
       "\n",
       "    .dataframe tbody tr th {\n",
       "        vertical-align: top;\n",
       "    }\n",
       "\n",
       "    .dataframe thead th {\n",
       "        text-align: right;\n",
       "    }\n",
       "</style>\n",
       "<table border=\"1\" class=\"dataframe\">\n",
       "  <thead>\n",
       "    <tr style=\"text-align: right;\">\n",
       "      <th></th>\n",
       "      <th>Patient</th>\n",
       "      <th>Age</th>\n",
       "      <th>Age_Group</th>\n",
       "      <th>Sex</th>\n",
       "      <th>Diagnosis_Code</th>\n",
       "      <th>Diagnosis_Group</th>\n",
       "      <th>Diagnosis_Family</th>\n",
       "      <th>Diagnosis_Description</th>\n",
       "      <th>Med_Code</th>\n",
       "      <th>Med_Description</th>\n",
       "      <th>Med_Description_Simp</th>\n",
       "      <th>Quantity</th>\n",
       "      <th>Status</th>\n",
       "      <th>Amount_Billed</th>\n",
       "      <th>Amount_Paid</th>\n",
       "    </tr>\n",
       "  </thead>\n",
       "  <tbody>\n",
       "    <tr>\n",
       "      <th>0</th>\n",
       "      <td>2112140237</td>\n",
       "      <td>37</td>\n",
       "      <td>26-45</td>\n",
       "      <td>Male</td>\n",
       "      <td>K21.9</td>\n",
       "      <td>K2</td>\n",
       "      <td>K</td>\n",
       "      <td>Gastro-esophageal reflux disease without esoph...</td>\n",
       "      <td>17381119111006</td>\n",
       "      <td>(SODIUM CHLORIDE : 9 MG/ML)  SOLUTION FOR INFU...</td>\n",
       "      <td>SODIUM CHLORIDE</td>\n",
       "      <td>1</td>\n",
       "      <td>Paid</td>\n",
       "      <td>3.00</td>\n",
       "      <td>3.00</td>\n",
       "    </tr>\n",
       "    <tr>\n",
       "      <th>1</th>\n",
       "      <td>2002110188</td>\n",
       "      <td>38</td>\n",
       "      <td>26-45</td>\n",
       "      <td>Male</td>\n",
       "      <td>I21.3</td>\n",
       "      <td>I0</td>\n",
       "      <td>I</td>\n",
       "      <td>ST elevation (STEMI) myocardial infarction of ...</td>\n",
       "      <td>9933855010391</td>\n",
       "      <td>(CLOPIDOGREL (AS BESILATE) : 75 MG)  FILM COAT...</td>\n",
       "      <td>CLOPIDOGREL</td>\n",
       "      <td>4</td>\n",
       "      <td>Rejected</td>\n",
       "      <td>17.44</td>\n",
       "      <td>0.00</td>\n",
       "    </tr>\n",
       "    <tr>\n",
       "      <th>2</th>\n",
       "      <td>1510110229</td>\n",
       "      <td>59</td>\n",
       "      <td>46-65</td>\n",
       "      <td>Male</td>\n",
       "      <td>B34.2</td>\n",
       "      <td>B3</td>\n",
       "      <td>B</td>\n",
       "      <td>Coronavirus infection, unspecified</td>\n",
       "      <td>1372428020342</td>\n",
       "      <td>(PANTOPRAZOLE (AS SODIUM) : 40 MG)  ENTERIC CO...</td>\n",
       "      <td>PANTOPRAZOLE</td>\n",
       "      <td>2</td>\n",
       "      <td>Paid</td>\n",
       "      <td>5.36</td>\n",
       "      <td>5.36</td>\n",
       "    </tr>\n",
       "    <tr>\n",
       "      <th>3</th>\n",
       "      <td>2312040128</td>\n",
       "      <td>38</td>\n",
       "      <td>26-45</td>\n",
       "      <td>Male</td>\n",
       "      <td>I69.354</td>\n",
       "      <td>I1</td>\n",
       "      <td>I</td>\n",
       "      <td>Hemiplegia and hemiparesis following cerebral ...</td>\n",
       "      <td>271792030391</td>\n",
       "      <td>(AMLODIPINE : 5 MG) (VALSARTAN : 160 MG)  FILM...</td>\n",
       "      <td>AMLODIPINE, VALSARTAN</td>\n",
       "      <td>7</td>\n",
       "      <td>Paid</td>\n",
       "      <td>51.66</td>\n",
       "      <td>51.66</td>\n",
       "    </tr>\n",
       "    <tr>\n",
       "      <th>4</th>\n",
       "      <td>2311110151</td>\n",
       "      <td>44</td>\n",
       "      <td>26-45</td>\n",
       "      <td>Male</td>\n",
       "      <td>J32.9</td>\n",
       "      <td>J3</td>\n",
       "      <td>J</td>\n",
       "      <td>Chronic sinusitis, unspecified</td>\n",
       "      <td>3551202010381</td>\n",
       "      <td>(GENTAMICIN : 0.3%)  EYE OINTMENT</td>\n",
       "      <td>GENTAMICIN</td>\n",
       "      <td>1</td>\n",
       "      <td>Paid</td>\n",
       "      <td>8.50</td>\n",
       "      <td>8.50</td>\n",
       "    </tr>\n",
       "  </tbody>\n",
       "</table>\n",
       "</div>"
      ],
      "text/plain": [
       "      Patient  Age Age_Group   Sex Diagnosis_Code Diagnosis_Group  \\\n",
       "0  2112140237   37     26-45  Male          K21.9              K2   \n",
       "1  2002110188   38     26-45  Male          I21.3              I0   \n",
       "2  1510110229   59     46-65  Male          B34.2              B3   \n",
       "3  2312040128   38     26-45  Male        I69.354              I1   \n",
       "4  2311110151   44     26-45  Male          J32.9              J3   \n",
       "\n",
       "  Diagnosis_Family                              Diagnosis_Description  \\\n",
       "0                K  Gastro-esophageal reflux disease without esoph...   \n",
       "1                I  ST elevation (STEMI) myocardial infarction of ...   \n",
       "2                B                 Coronavirus infection, unspecified   \n",
       "3                I  Hemiplegia and hemiparesis following cerebral ...   \n",
       "4                J                     Chronic sinusitis, unspecified   \n",
       "\n",
       "         Med_Code                                    Med_Description  \\\n",
       "0  17381119111006  (SODIUM CHLORIDE : 9 MG/ML)  SOLUTION FOR INFU...   \n",
       "1   9933855010391  (CLOPIDOGREL (AS BESILATE) : 75 MG)  FILM COAT...   \n",
       "2   1372428020342  (PANTOPRAZOLE (AS SODIUM) : 40 MG)  ENTERIC CO...   \n",
       "3    271792030391  (AMLODIPINE : 5 MG) (VALSARTAN : 160 MG)  FILM...   \n",
       "4   3551202010381                  (GENTAMICIN : 0.3%)  EYE OINTMENT   \n",
       "\n",
       "    Med_Description_Simp  Quantity    Status  Amount_Billed  Amount_Paid  \n",
       "0        SODIUM CHLORIDE         1      Paid           3.00         3.00  \n",
       "1            CLOPIDOGREL         4  Rejected          17.44         0.00  \n",
       "2           PANTOPRAZOLE         2      Paid           5.36         5.36  \n",
       "3  AMLODIPINE, VALSARTAN         7      Paid          51.66        51.66  \n",
       "4             GENTAMICIN         1      Paid           8.50         8.50  "
      ]
     },
     "execution_count": 28,
     "metadata": {},
     "output_type": "execute_result"
    }
   ],
   "source": [
    "\n",
    "# Load the data\n",
    "data = pd.read_csv(\"../Resources/Health_insurance_clean.csv\")\n",
    "data.head()"
   ]
  },
  {
   "cell_type": "code",
   "execution_count": 29,
   "metadata": {},
   "outputs": [],
   "source": [
    "\n",
    "# Select relevant columns for prediction\n",
    "features = ['Age', 'Sex', 'Diagnosis_Group']\n",
    "target = 'Status'\n",
    "\n",
    "X = data[features]\n",
    "y = data[target]\n"
   ]
  },
  {
   "cell_type": "code",
   "execution_count": 30,
   "metadata": {},
   "outputs": [],
   "source": [
    "\n",
    "# Perform one-hot encoding for categorical variables\n",
    "encoder = OneHotEncoder(drop='first')\n",
    "X_encoded = encoder.fit_transform(X)\n",
    "\n",
    "# Split the data into training and testing sets\n",
    "X_train, X_test, y_train, y_test = train_test_split(X_encoded, y, test_size=0.2, random_state=42)\n"
   ]
  },
  {
   "cell_type": "code",
   "execution_count": 31,
   "metadata": {},
   "outputs": [],
   "source": [
    "\n",
    "# Initialize and train the Random Forest classifier\n",
    "rf_classifier = RandomForestClassifier(n_estimators=100, random_state=42)\n",
    "rf_classifier.fit(X_train, y_train)\n",
    "\n",
    "# Make predictions on the testing set\n",
    "y_pred = rf_classifier.predict(X_test)\n"
   ]
  },
  {
   "cell_type": "code",
   "execution_count": 32,
   "metadata": {},
   "outputs": [
    {
     "name": "stdout",
     "output_type": "stream",
     "text": [
      "Accuracy: 0.8157314838440305\n"
     ]
    }
   ],
   "source": [
    "\n",
    "# Evaluate the model's accuracy\n",
    "accuracy = accuracy_score(y_test, y_pred)\n",
    "print(\"Accuracy:\", accuracy)\n"
   ]
  },
  {
   "cell_type": "code",
   "execution_count": 35,
   "metadata": {},
   "outputs": [
    {
     "name": "stdout",
     "output_type": "stream",
     "text": [
      "Classification Report:\n",
      "               precision    recall  f1-score   support\n",
      "\n",
      "        Paid       0.83      0.94      0.88     31132\n",
      "    Rejected       0.76      0.49      0.60     11979\n",
      "\n",
      "    accuracy                           0.82     43111\n",
      "   macro avg       0.79      0.72      0.74     43111\n",
      "weighted avg       0.81      0.82      0.80     43111\n",
      "\n"
     ]
    }
   ],
   "source": [
    "# Generate classification report\n",
    "class_report = classification_report(y_test, y_pred)\n",
    "print(\"Classification Report:\\n\", class_report)"
   ]
  }
 ],
 "metadata": {
  "kernelspec": {
   "display_name": "dev",
   "language": "python",
   "name": "python3"
  },
  "language_info": {
   "codemirror_mode": {
    "name": "ipython",
    "version": 3
   },
   "file_extension": ".py",
   "mimetype": "text/x-python",
   "name": "python",
   "nbconvert_exporter": "python",
   "pygments_lexer": "ipython3",
   "version": "3.10.13"
  },
  "orig_nbformat": 4
 },
 "nbformat": 4,
 "nbformat_minor": 2
}
