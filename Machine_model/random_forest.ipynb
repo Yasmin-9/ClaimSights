{
 "cells": [
  {
   "cell_type": "code",
   "execution_count": 7,
   "metadata": {},
   "outputs": [],
   "source": [
    "# Import dependencies\n",
    "import pandas as pd\n",
    "import hvplot.pandas\n",
    "from pathlib import Path\n",
    "from sklearn.cluster import KMeans\n",
    "from sklearn.preprocessing import StandardScaler"
   ]
  },
  {
   "attachments": {},
   "cell_type": "markdown",
   "metadata": {},
   "source": [
    "# Load Data"
   ]
  },
  {
   "cell_type": "code",
   "execution_count": null,
   "metadata": {},
   "outputs": [],
   "source": [
    "# Load the data into a Pandas DataFrame\n",
    "df = pd.read_csv(\"/EDA/EDA.ipynb\")\n",
    "\n",
    "# Display data\n",
    "df.head()"
   ]
  },
  {
   "cell_type": "code",
   "execution_count": null,
   "metadata": {},
   "outputs": [],
   "source": [
    "# Plot data to view distribution\n",
    "df.hvplot.line(\n",
    "    rot = 90,\n",
    "    height = 200,\n",
    "    width= 600\n",
    ")"
   ]
  },
  {
   "attachments": {},
   "cell_type": "markdown",
   "metadata": {},
   "source": [
    "# Scale Data using Standard Scaler"
   ]
  },
  {
   "cell_type": "code",
   "execution_count": null,
   "metadata": {},
   "outputs": [],
   "source": [
    "scaled_df = StandardScaler().fit_transform(df[[\"Amount_Billed\",\"Amount_Paid\",]])"
   ]
  },
  {
   "attachments": {},
   "cell_type": "markdown",
   "metadata": {},
   "source": [
    "# Prepare and Execute K-means model, to find best K-value using Elbow Curve"
   ]
  },
  {
   "cell_type": "code",
   "execution_count": null,
   "metadata": {},
   "outputs": [],
   "source": [
    "# Create list of K-values\n",
    "k = list(range(1,\"put a value\")) #how many clusters do we have in total..\n",
    "\n",
    "# Create list to hold inertia values\n",
    "inertia = []"
   ]
  },
  {
   "cell_type": "code",
   "execution_count": null,
   "metadata": {},
   "outputs": [],
   "source": [
    "# Create a for-loop to run through dataframe with each k-value with k-means and fit the model\n",
    "\n",
    "for i in k:\n",
    "    k_means_model = KMeans(n_clusters = i ,random_state = 1)\n",
    "    k_means_model.fit(df)\n",
    "    inertia.append(k_means_model.inertia_)"
   ]
  },
  {
   "cell_type": "code",
   "execution_count": 4,
   "metadata": {},
   "outputs": [
    {
     "ename": "NameError",
     "evalue": "name 'k' is not defined",
     "output_type": "error",
     "traceback": [
      "\u001b[0;31m---------------------------------------------------------------------------\u001b[0m",
      "\u001b[0;31mNameError\u001b[0m                                 Traceback (most recent call last)",
      "Cell \u001b[0;32mIn[4], line 2\u001b[0m\n\u001b[1;32m      1\u001b[0m \u001b[39m# Create a dictionary to store K-values, and inertia\u001b[39;00m\n\u001b[0;32m----> 2\u001b[0m k_dict \u001b[39m=\u001b[39m {k:\u001b[39m'\u001b[39m\u001b[39mk\u001b[39m\u001b[39m'\u001b[39m,inertia:\u001b[39m'\u001b[39m\u001b[39minertia\u001b[39m\u001b[39m'\u001b[39m}\n\u001b[1;32m      4\u001b[0m \u001b[39m# Create a new dataframe with k-values dictionary\u001b[39;00m\n\u001b[1;32m      5\u001b[0m k_df \u001b[39m=\u001b[39m pd\u001b[39m.\u001b[39mDataFrame(k_dict,columns\u001b[39m=\u001b[39m[\u001b[39m\"\u001b[39m\u001b[39mk\u001b[39m\u001b[39m\"\u001b[39m,\u001b[39m\"\u001b[39m\u001b[39minertia\u001b[39m\u001b[39m\"\u001b[39m])\n",
      "\u001b[0;31mNameError\u001b[0m: name 'k' is not defined"
     ]
    }
   ],
   "source": [
    "# Create a dictionary to store K-values, and inertia\n",
    "k_dict = {k:'k',inertia:'inertia'}\n",
    "\n",
    "# Create a new dataframe with k-values dictionary\n",
    "k_df = pd.DataFrame(k_dict,columns=[\"k\",\"inertia\"])\n",
    "\n",
    "# View dataframe\n",
    "k_df.head()"
   ]
  },
  {
   "cell_type": "code",
   "execution_count": 5,
   "metadata": {},
   "outputs": [],
   "source": [
    "# Plot k_df with a line graph\n",
    "\n",
    "k_df.hvplot.line(\n",
    "    x='k',\n",
    "    y='inertia',\n",
    "    title='Elbow Curve!',\n",
    "    xticks=k\n",
    ")\n",
    "\n",
    "# Find optimal k-value, using 'elbow' point as optimal mark"
   ]
  },
  {
   "cell_type": "code",
   "execution_count": null,
   "metadata": {},
   "outputs": [],
   "source": [
    "## i think we should state our optimal value here"
   ]
  },
  {
   "attachments": {},
   "cell_type": "markdown",
   "metadata": {},
   "source": [
    "# Recreate k-means using optimal k-value this time, with original data ('df')"
   ]
  },
  {
   "cell_type": "code",
   "execution_count": null,
   "metadata": {},
   "outputs": [],
   "source": [
    "# Initialize k-means model, with optimal K-value and fit it\n",
    "\n",
    "perfect_k = KMeans(n_clusters=\"ADD AFTER RUNNING\", random_state = 1)\n",
    "perfect_k.fit(df)\n",
    "\n",
    "# Predict the clusters\n",
    "predictions = perfect_k.predict(df)\n",
    "\n",
    "# View predictions\n",
    "print(predictions)"
   ]
  },
  {
   "cell_type": "code",
   "execution_count": 6,
   "metadata": {},
   "outputs": [
    {
     "ename": "NameError",
     "evalue": "name 'df' is not defined",
     "output_type": "error",
     "traceback": [
      "\u001b[0;31m---------------------------------------------------------------------------\u001b[0m",
      "\u001b[0;31mNameError\u001b[0m                                 Traceback (most recent call last)",
      "Cell \u001b[0;32mIn[6], line 2\u001b[0m\n\u001b[1;32m      1\u001b[0m \u001b[39m# Create a copy of dataframe, to prevent data from becoming broken\u001b[39;00m\n\u001b[0;32m----> 2\u001b[0m df_2 \u001b[39m=\u001b[39m df\u001b[39m.\u001b[39mcopy()\n\u001b[1;32m      4\u001b[0m \u001b[39m# Add clusters column into df\u001b[39;00m\n\u001b[1;32m      5\u001b[0m df_2[\u001b[39m'\u001b[39m\u001b[39mPrescription Cluster\u001b[39m\u001b[39m'\u001b[39m] \u001b[39m=\u001b[39m predictions\n",
      "\u001b[0;31mNameError\u001b[0m: name 'df' is not defined"
     ]
    }
   ],
   "source": [
    "# Create a copy of dataframe, to prevent data from becoming broken\n",
    "df_2 = df.copy()\n",
    "\n",
    "# Add clusters column into df\n",
    "df_2['Prescription Cluster'] = predictions\n",
    "\n",
    "# View data\n",
    "df_2.head()"
   ]
  },
  {
   "cell_type": "code",
   "execution_count": null,
   "metadata": {},
   "outputs": [],
   "source": [
    "# Create a scatter plot of 'Prescription Cluster'\n",
    "df_2.hvplot.scatter(\n",
    "    x = 'Diagnosis_Description',\n",
    "    y = 'Amt_Billed',\n",
    "    by = 'Amt_Paid',\n",
    ")"
   ]
  }
 ],
 "metadata": {
  "kernelspec": {
   "display_name": "dev",
   "language": "python",
   "name": "python3"
  },
  "language_info": {
   "codemirror_mode": {
    "name": "ipython",
    "version": 3
   },
   "file_extension": ".py",
   "mimetype": "text/x-python",
   "name": "python",
   "nbconvert_exporter": "python",
   "pygments_lexer": "ipython3",
   "version": "3.10.12"
  },
  "orig_nbformat": 4
 },
 "nbformat": 4,
 "nbformat_minor": 2
}
