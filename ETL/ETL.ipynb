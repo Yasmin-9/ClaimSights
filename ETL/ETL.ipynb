{
 "cells": [
  {
   "cell_type": "code",
   "execution_count": 21,
   "metadata": {},
   "outputs": [],
   "source": [
    "from sqlalchemy import create_engine"
   ]
  },
  {
   "cell_type": "code",
   "execution_count": 28,
   "metadata": {},
   "outputs": [],
   "source": [
    "# Replace 'username', 'password', 'hostname', 'port', and 'database_name' with your actual credentials and database details\n",
    "username = 'postgres'\n",
    "password = 'myproject'\n",
    "hostname = 'database-1.cfg4ma0mq56c.us-east-2.rds.amazonaws.com'\n",
    "port = '5432'\n",
    "database_name = 'tx-dx'\n",
    "\n",
    "# Create connection string\n",
    "engine = create_engine(f'postgresql://{username}:{password}@{hostname}:{port}/{database_name}')"
   ]
  },
  {
   "cell_type": "code",
   "execution_count": 29,
   "metadata": {},
   "outputs": [
    {
     "name": "stdout",
     "output_type": "stream",
     "text": [
      "Connection successful!\n"
     ]
    }
   ],
   "source": [
    "try:\n",
    "    connection = engine.connect()\n",
    "    print(\"Connection successful!\")\n",
    "    connection.close()\n",
    "except Exception as e:\n",
    "    print(f\"Connection failed with error: {e}\")"
   ]
  }
 ],
 "metadata": {
  "kernelspec": {
   "display_name": "dev",
   "language": "python",
   "name": "python3"
  },
  "language_info": {
   "codemirror_mode": {
    "name": "ipython",
    "version": 3
   },
   "file_extension": ".py",
   "mimetype": "text/x-python",
   "name": "python",
   "nbconvert_exporter": "python",
   "pygments_lexer": "ipython3",
   "version": "3.10.12"
  }
 },
 "nbformat": 4,
 "nbformat_minor": 2
}
